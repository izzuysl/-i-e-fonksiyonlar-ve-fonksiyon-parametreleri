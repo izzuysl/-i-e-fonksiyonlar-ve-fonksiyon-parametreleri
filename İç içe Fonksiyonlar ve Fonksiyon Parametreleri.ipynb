{
 "cells": [
  {
   "cell_type": "code",
   "execution_count": 1,
   "id": "11c2b31e",
   "metadata": {},
   "outputs": [],
   "source": [
    "def fonksiyon(*args):\n",
    "    for i in args:\n",
    "        print(i)\n",
    "        "
   ]
  },
  {
   "cell_type": "code",
   "execution_count": 2,
   "id": "eeabfd34",
   "metadata": {},
   "outputs": [
    {
     "name": "stdout",
     "output_type": "stream",
     "text": [
      "(1, 2, 3)\n",
      "1\n",
      "2\n",
      "3\n"
     ]
    }
   ],
   "source": [
    "fonksiyon(1,2,3)"
   ]
  },
  {
   "cell_type": "code",
   "execution_count": 3,
   "id": "f51ce8be",
   "metadata": {},
   "outputs": [
    {
     "name": "stdout",
     "output_type": "stream",
     "text": [
      "(1, 2, 3, 4, 5, 6, 7)\n",
      "1\n",
      "2\n",
      "3\n",
      "4\n",
      "5\n",
      "6\n",
      "7\n"
     ]
    }
   ],
   "source": [
    "fonksiyon(1,2,3,4,5,6,7)"
   ]
  },
  {
   "cell_type": "code",
   "execution_count": 5,
   "id": "5a4d385b",
   "metadata": {},
   "outputs": [],
   "source": [
    "def fonksiyon(isim,*args):\n",
    "    print(\"İsim:\",isim)\n",
    "    \n",
    "    print(\"--------------\")\n",
    "    for i in args:\n",
    "        print(i)"
   ]
  },
  {
   "cell_type": "code",
   "execution_count": 6,
   "id": "7a023123",
   "metadata": {},
   "outputs": [
    {
     "name": "stdout",
     "output_type": "stream",
     "text": [
      "İsim: Murat\n",
      "--------------\n",
      "1\n",
      "2\n",
      "3\n",
      "4\n",
      "5\n",
      "6\n",
      "7\n"
     ]
    }
   ],
   "source": [
    "fonksiyon(\"Murat\",1,2,3,4,5,6,7)"
   ]
  },
  {
   "cell_type": "code",
   "execution_count": 7,
   "id": "b71d75b0",
   "metadata": {},
   "outputs": [],
   "source": [
    "def fonksiyon(**kwargs):\n",
    "    print(kwargs)"
   ]
  },
  {
   "cell_type": "code",
   "execution_count": 8,
   "id": "94019194",
   "metadata": {},
   "outputs": [
    {
     "name": "stdout",
     "output_type": "stream",
     "text": [
      "{'isim': 'İzel', 'soyisim': 'Uysal', 'numara': 12345}\n"
     ]
    }
   ],
   "source": [
    "fonksiyon(isim = \"İzel\",soyisim = \"Uysal\",numara = 12345)"
   ]
  },
  {
   "cell_type": "code",
   "execution_count": 9,
   "id": "a92ffc56",
   "metadata": {},
   "outputs": [],
   "source": [
    "def fonksiyon(**kwargs):\n",
    "    for i,j in kwargs.items():\n",
    "        print(\"Argüman İsmi:\",i,\"Argüman değeri:\",j)"
   ]
  },
  {
   "cell_type": "code",
   "execution_count": 10,
   "id": "a3da7ce9",
   "metadata": {},
   "outputs": [
    {
     "name": "stdout",
     "output_type": "stream",
     "text": [
      "Argüman İsmi: isim Argüman değeri: İzel\n",
      "Argüman İsmi: soyisim Argüman değeri: Uysal\n",
      "Argüman İsmi: numara Argüman değeri: 12345\n"
     ]
    }
   ],
   "source": [
    "fonksiyon(isim = \"İzel\",soyisim = \"Uysal\",numara = 12345)"
   ]
  },
  {
   "cell_type": "code",
   "execution_count": 11,
   "id": "6e6bbd78",
   "metadata": {},
   "outputs": [],
   "source": [
    "def fonksiyon(*args,**kwargs):\n",
    "    for i in args:\n",
    "        print(i)\n",
    "        \n",
    "    print(\"---------------\")\n",
    "    \n",
    "    for i,j in kwargs.items():\n",
    "        print(i,j)"
   ]
  },
  {
   "cell_type": "code",
   "execution_count": 13,
   "id": "64c0f88c",
   "metadata": {},
   "outputs": [
    {
     "name": "stdout",
     "output_type": "stream",
     "text": [
      "1\n",
      "2\n",
      "3\n",
      "4\n",
      "5\n",
      "6\n",
      "---------------\n",
      "isim İzel\n",
      "soyisim Uysal\n",
      "numara 12345\n"
     ]
    }
   ],
   "source": [
    "fonksiyon(1,2,3,4,5,6,isim = \"İzel\",soyisim = \"Uysal\",numara = 12345)"
   ]
  },
  {
   "cell_type": "code",
   "execution_count": 14,
   "id": "4d8a3da0",
   "metadata": {},
   "outputs": [],
   "source": [
    "def selamla(isim):\n",
    "    print(\"Selam\",isim)"
   ]
  },
  {
   "cell_type": "code",
   "execution_count": 15,
   "id": "04ab9fd8",
   "metadata": {},
   "outputs": [
    {
     "name": "stdout",
     "output_type": "stream",
     "text": [
      "Selam Onur\n"
     ]
    }
   ],
   "source": [
    "selamla(\"Onur\")"
   ]
  },
  {
   "cell_type": "code",
   "execution_count": 16,
   "id": "51fbb71e",
   "metadata": {},
   "outputs": [
    {
     "data": {
      "text/plain": [
       "<function __main__.selamla(isim)>"
      ]
     },
     "execution_count": 16,
     "metadata": {},
     "output_type": "execute_result"
    }
   ],
   "source": [
    "selamla"
   ]
  },
  {
   "cell_type": "code",
   "execution_count": 17,
   "id": "7b1b64ee",
   "metadata": {},
   "outputs": [],
   "source": [
    "merhaba = selamla"
   ]
  },
  {
   "cell_type": "code",
   "execution_count": 18,
   "id": "517ae72c",
   "metadata": {},
   "outputs": [
    {
     "data": {
      "text/plain": [
       "<function __main__.selamla(isim)>"
      ]
     },
     "execution_count": 18,
     "metadata": {},
     "output_type": "execute_result"
    }
   ],
   "source": [
    "merhaba"
   ]
  },
  {
   "cell_type": "code",
   "execution_count": 19,
   "id": "c7ab0d61",
   "metadata": {},
   "outputs": [
    {
     "name": "stdout",
     "output_type": "stream",
     "text": [
      "Selam Ceren\n"
     ]
    }
   ],
   "source": [
    "merhaba(\"Ceren\")"
   ]
  },
  {
   "cell_type": "code",
   "execution_count": 20,
   "id": "21226119",
   "metadata": {},
   "outputs": [],
   "source": [
    "del selamla"
   ]
  },
  {
   "cell_type": "code",
   "execution_count": 21,
   "id": "68c48155",
   "metadata": {},
   "outputs": [
    {
     "ename": "NameError",
     "evalue": "name 'selamla' is not defined",
     "output_type": "error",
     "traceback": [
      "\u001b[1;31m---------------------------------------------------------------------------\u001b[0m",
      "\u001b[1;31mNameError\u001b[0m                                 Traceback (most recent call last)",
      "\u001b[1;32mC:\\Users\\ZEL~1\\AppData\\Local\\Temp/ipykernel_5200/4085223390.py\u001b[0m in \u001b[0;36m<module>\u001b[1;34m\u001b[0m\n\u001b[1;32m----> 1\u001b[1;33m \u001b[0mselamla\u001b[0m\u001b[1;33m\u001b[0m\u001b[1;33m\u001b[0m\u001b[0m\n\u001b[0m",
      "\u001b[1;31mNameError\u001b[0m: name 'selamla' is not defined"
     ]
    }
   ],
   "source": [
    "selamla"
   ]
  },
  {
   "cell_type": "code",
   "execution_count": 22,
   "id": "f3fb3e16",
   "metadata": {},
   "outputs": [
    {
     "data": {
      "text/plain": [
       "<function __main__.selamla(isim)>"
      ]
     },
     "execution_count": 22,
     "metadata": {},
     "output_type": "execute_result"
    }
   ],
   "source": [
    "merhaba"
   ]
  },
  {
   "cell_type": "code",
   "execution_count": 23,
   "id": "079760d5",
   "metadata": {},
   "outputs": [
    {
     "name": "stdout",
     "output_type": "stream",
     "text": [
      "Selam Bilgen\n"
     ]
    }
   ],
   "source": [
    "merhaba(\"Bilgen\")"
   ]
  },
  {
   "cell_type": "code",
   "execution_count": 24,
   "id": "275c07de",
   "metadata": {},
   "outputs": [],
   "source": [
    "def fonksiyon():\n",
    "    \n",
    "    def fonksiyon2():\n",
    "        print(\"Küçük fonksiyondan herkese merhaba\")\n",
    "    fonksiyon2()  \n",
    "    print(\"Büyük fonksiyondan herkese merhaba\")"
   ]
  },
  {
   "cell_type": "code",
   "execution_count": 25,
   "id": "daf02622",
   "metadata": {},
   "outputs": [
    {
     "name": "stdout",
     "output_type": "stream",
     "text": [
      "Küçük fonksiyondan herkese merhaba\n",
      "Büyük fonksiyondan herkese merhaba\n"
     ]
    }
   ],
   "source": [
    "fonksiyon()"
   ]
  },
  {
   "cell_type": "code",
   "execution_count": 26,
   "id": "906d7f9a",
   "metadata": {},
   "outputs": [
    {
     "ename": "NameError",
     "evalue": "name 'fonksiyon2' is not defined",
     "output_type": "error",
     "traceback": [
      "\u001b[1;31m---------------------------------------------------------------------------\u001b[0m",
      "\u001b[1;31mNameError\u001b[0m                                 Traceback (most recent call last)",
      "\u001b[1;32mC:\\Users\\ZEL~1\\AppData\\Local\\Temp/ipykernel_5200/1149327145.py\u001b[0m in \u001b[0;36m<module>\u001b[1;34m\u001b[0m\n\u001b[1;32m----> 1\u001b[1;33m \u001b[0mfonksiyon2\u001b[0m\u001b[1;33m(\u001b[0m\u001b[1;33m)\u001b[0m\u001b[1;33m\u001b[0m\u001b[1;33m\u001b[0m\u001b[0m\n\u001b[0m",
      "\u001b[1;31mNameError\u001b[0m: name 'fonksiyon2' is not defined"
     ]
    }
   ],
   "source": [
    "fonksiyon2()"
   ]
  },
  {
   "cell_type": "code",
   "execution_count": 29,
   "id": "ac4811a0",
   "metadata": {},
   "outputs": [],
   "source": [
    "def fonksiyon(*args):\n",
    "    def toplama(args):\n",
    "        toplam = 0\n",
    "        for i in args:\n",
    "            toplam += i\n",
    "        return toplam  \n",
    "    print(toplama(args))\n",
    "    "
   ]
  },
  {
   "cell_type": "code",
   "execution_count": 30,
   "id": "ce68e56f",
   "metadata": {},
   "outputs": [
    {
     "name": "stdout",
     "output_type": "stream",
     "text": [
      "28\n"
     ]
    }
   ],
   "source": [
    "fonksiyon(1,2,3,4,5,6,7)"
   ]
  }
 ],
 "metadata": {
  "kernelspec": {
   "display_name": "Python 3 (ipykernel)",
   "language": "python",
   "name": "python3"
  },
  "language_info": {
   "codemirror_mode": {
    "name": "ipython",
    "version": 3
   },
   "file_extension": ".py",
   "mimetype": "text/x-python",
   "name": "python",
   "nbconvert_exporter": "python",
   "pygments_lexer": "ipython3",
   "version": "3.9.7"
  }
 },
 "nbformat": 4,
 "nbformat_minor": 5
}
